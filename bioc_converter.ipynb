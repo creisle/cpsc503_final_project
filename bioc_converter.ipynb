{
 "cells": [
  {
   "cell_type": "code",
   "execution_count": 1,
   "metadata": {},
   "outputs": [],
   "source": [
    "import bconv\n",
    "import os"
   ]
  },
  {
   "cell_type": "code",
   "execution_count": 2,
   "metadata": {},
   "outputs": [],
   "source": [
    "basePath = \"data/pmc_small_sample\"\n",
    "outPath = \"data/pmc_txt\"\n",
    "outFormat = \"txt\""
   ]
  },
  {
   "cell_type": "code",
   "execution_count": 4,
   "metadata": {},
   "outputs": [
    {
     "name": "stdout",
     "output_type": "stream",
     "text": [
      "Converting bioc to txt...\n",
      "Finished converting to txt. Output in data/pmc_txt\n"
     ]
    }
   ],
   "source": [
    "#Iterate over all dirs in the base path here and for each folder convert the contents\n",
    "\n",
    "print(\"Converting bioc to \" + outFormat + \"...\")\n",
    "collections = os.listdir(basePath)\n",
    "for c in collections:\n",
    "    cPath = basePath + \"/\" + c\n",
    "    papers = os.listdir(cPath)\n",
    "    \n",
    "    for pFile in papers:\n",
    "        try:\n",
    "            pPath = cPath + \"/\" + pFile\n",
    "            curPaper = bconv.load(pPath, fmt='nxml', mode=\"collection\")\n",
    "            bconv.dump(curPaper, outPath, outFormat)\n",
    "        except:\n",
    "            print(\"Converting the file \" + pPath + \" failed.\")\n",
    "\n",
    "\n",
    "print(\"Finished converting to txt. Output in \" + outPath)"
   ]
  },
  {
   "cell_type": "code",
   "execution_count": null,
   "metadata": {},
   "outputs": [],
   "source": []
  },
  {
   "cell_type": "code",
   "execution_count": null,
   "metadata": {},
   "outputs": [],
   "source": []
  }
 ],
 "metadata": {
  "kernelspec": {
   "display_name": "Python 3",
   "language": "python",
   "name": "python3"
  },
  "language_info": {
   "codemirror_mode": {
    "name": "ipython",
    "version": 3
   },
   "file_extension": ".py",
   "mimetype": "text/x-python",
   "name": "python",
   "nbconvert_exporter": "python",
   "pygments_lexer": "ipython3",
   "version": "3.9.0"
  }
 },
 "nbformat": 4,
 "nbformat_minor": 4
}
