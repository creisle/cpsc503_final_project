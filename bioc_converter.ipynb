{
 "cells": [
  {
   "cell_type": "code",
   "execution_count": 18,
   "metadata": {},
   "outputs": [],
   "source": [
    "import bconv\n",
    "import os"
   ]
  },
  {
   "cell_type": "code",
   "execution_count": 19,
   "metadata": {},
   "outputs": [],
   "source": [
    "basePath = \"pmc_small_sample\"\n",
    "outPath = \"pmc_txt\"\n",
    "outFormat = \"txt\""
   ]
  },
  {
   "cell_type": "code",
   "execution_count": 22,
   "metadata": {},
   "outputs": [],
   "source": [
    "#Iterate over all dirs in the base path here and for each folder convert the contents\n",
    "collections = os.listdir(basePath)\n",
    "for c in collections:\n",
    "    cPath = basePath + \"/\" + c\n",
    "    papers = os.listdir(cPath)\n",
    "    \n",
    "    for pFile in papers:\n",
    "        try:\n",
    "            pPath = cPath + \"/\" + pFile\n",
    "            curPaper = bconv.load(pPath, fmt='nxml', mode=\"collection\")\n",
    "            bconv.dump(curPaper, outPath, outFormat)\n",
    "        except:\n",
    "            print(\"Converting the file \" + pPath + \" failed.\")\n",
    "\n",
    "\n"
   ]
  },
  {
   "cell_type": "code",
   "execution_count": null,
   "metadata": {},
   "outputs": [],
   "source": []
  },
  {
   "cell_type": "code",
   "execution_count": null,
   "metadata": {},
   "outputs": [],
   "source": []
  }
 ],
 "metadata": {
  "kernelspec": {
   "display_name": "Python 3",
   "language": "python",
   "name": "python3"
  },
  "language_info": {
   "codemirror_mode": {
    "name": "ipython",
    "version": 3
   },
   "file_extension": ".py",
   "mimetype": "text/x-python",
   "name": "python",
   "nbconvert_exporter": "python",
   "pygments_lexer": "ipython3",
   "version": "3.9.0"
  }
 },
 "nbformat": 4,
 "nbformat_minor": 4
}
