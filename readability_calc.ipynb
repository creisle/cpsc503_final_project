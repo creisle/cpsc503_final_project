{
 "cells": [
  {
   "cell_type": "code",
   "execution_count": 28,
   "metadata": {},
   "outputs": [],
   "source": [
    "import os\n",
    "import regex\n",
    "import textstat"
   ]
  },
  {
   "cell_type": "code",
   "execution_count": 40,
   "metadata": {},
   "outputs": [],
   "source": [
    "papers_dir = \"pmc_txt\"\n"
   ]
  },
  {
   "cell_type": "code",
   "execution_count": 41,
   "metadata": {},
   "outputs": [],
   "source": [
    "#Calculates the Flesch-Kincaid Grade Level, Gunning FOG Index, Automated Readability Index and Coleman-Liau Index\n",
    "#for the given text. Returns a dictionary with indices as follows:\n",
    "#\"flesch-kincaid\"->Flesch-Kincaid Grade Level\n",
    "#\"gunning-fog\"->Gunning FOG Index\n",
    "#\"automated-readability\"->Automated Readability Index\n",
    "#\"coleman-liau\"->Coleman-Liau Index\n",
    "\n",
    "def calcReadabilityScores(text):\n",
    "    result = {\n",
    "        \"flesch-kincaid\": 0.0,\n",
    "        \"gunning-fog\": 0.0,\n",
    "        \"automated-readability\": 0.0,\n",
    "        \"coleman-liau\": 0.0\n",
    "    }\n",
    "    \n",
    "    return result\n",
    "    "
   ]
  },
  {
   "cell_type": "code",
   "execution_count": 45,
   "metadata": {},
   "outputs": [
    {
     "name": "stdout",
     "output_type": "stream",
     "text": [
      "\n",
      "Abstract\n",
      "\n",
      "The ex vivo isolated perfused rat lung (IPL) model has been demonstrated to be a useful tool during drug development for studying pulmonary drug absorption. This study aims to investigate the potential use of IPL data to predict rat in vivo lung absorption. Absorption parameters determined from IPL data (ex vivo input parameters) in combination with intravenously determined pharmacokinetic data were used in a biopharmaceutics model to predict experimental rat in vivo plasma concentration-time profiles and lung amount after inhalation of five different inhalation compounds. The performance of simulations using ex vivo input parameters was compared with simulations using in vitro input parameters, to determine whether and to what extent predictability could be improved by using input parameters determined from the more complex ex vivo model. Simulations using ex vivo input parameters were within twofold average difference (AAFE < 2) from experimental in vivo data for all compounds except one. Furthermore, simulations using ex vivo input parameters performed significantly better than simulations using in vitro input parameters in predicting in vivo lung absorption. It could therefore be advantageous to base predictions of drug performance on IPL data rather than on in vitro data during drug development to increase mechanistic understanding of pulmonary drug absorption and to better understand how different substance properties and formulations might affect in vivo behavior of inhalation compounds.\n",
      "\n",
      "\n",
      "\n",
      "INTRODUCTION\n",
      "\n",
      "Pulmonary drug delivery is the preferred administration route for the treatment of lung diseases such as asthma, chronic obstructive lung disease, and cystic fibrosis. Optimal pulmonary drug delivery of locally acting active pharmaceutical ingredients (APIs) includes high local concentration, extended lung residence time, and low systemic concentration. These properties enhance the pharmacological effect and decrease the dosing frequency, which improves compliance and reduces the risk of systemically adverse effects. To ensure the efficient and successful development of inhalation drug products, improved knowledge about the pulmonary drug absorption, i.e., dissolution, permeability, and tissue retention of the API in the lungs, is needed.\n",
      "\n",
      "The isolated perfused rat lung (IPL) model is an ex vivo absorption model that allows parameters like epithelial permeability, solubility in epithelial lining fluid (ELF), dissolution rate, and particle wetting as well as tissue retention to be determined by computational analysis. The advantages of the IPL model over in vivo inhalation studies is that the lung-delivered dose can be closely controlled without passing the nose and the lung deposited dose can be measured directly by mass balance calculations. In addition, the effects of systemic disposition are excluded in the IPL model, because the pulmonary drug absorption is measured directly in the pulmonary vein. A physiological difference between the IPL model and the in vivo situation is that the systemic circulation, which supplies the bronchial region with blood, is not perfused in the IPL model. However, the drug absorption rate for solutes has previously been shown to correlate well between the IPL model and in vivo studies, which suggest that parameters obtained from the IPL model are potentially in vivo predictive. These advantages suggest that the IPL model may offer better opportunities than the more complex in vivo method for investigating drug absorption rate and mechanisms for solutes and different inhalation formulations.\n",
      "\n",
      "Physiologically based biopharmaceutics (PBB) models are used to mechanistically describe absorption processes and can be used to simulate and predict drug absorption. These models require various drug absorption properties as input parameters, which can be either calculated from physicochemical properties or obtained from experimental measurements. For PBB models of inhaled drugs, lung absorption input parameters are commonly based on in vitro measurements. For example, permeability can be measured with cell monolayer models, tissue retention can be measured with tissue slices, and the dissolution rate can be based on solubility measures (11–13). In vitro measurements can be performed on a large scale while remaining cost-effective and are therefore well suited for predictions early in drug development. Some studies have shown that in vitro–based predictions can perform with high accuracy in predicting both in vivo and clinical plasma concentrations. However, there are still knowledge gaps in the use of input parameters in pulmonary absorption predictions. Absorption input parameters obtained from a more physiologically relevant experimental model like the IPL, might improve the predictive performance of PBB models, and also allow key factors relevant specifically to pulmonary absorption input parameters to be studied. Especially in later stages of drug development, the IPL can be useful in providing absorption data of for example different formulations.\n",
      "\n",
      "The primary objective of this study was to investigate the potential use of IPL data to predict rat in vivo lung absorption. Absorption parameters determined from IPL data (ex vivo input parameters) were used in combination with intravenously determined pharmacokinetic data in the PBB model LungSim to predict experimental rat in vivo plasma concentration-time profiles and retained lung amount after inhalation of five different inhalation compounds. Simulations that used ex vivo input parameters were compared with simulations that used in vitro input parameters, to examine whether predictability improved when using input parameters determined from the more complex model.\n",
      "\n",
      "{'flesch-kincaid': 0.0, 'gunning-fog': 0.0, 'automated-readability': 0.0, 'coleman-liau': 0.0}\n"
     ]
    }
   ],
   "source": [
    "results = []\n",
    "#For each paper in papers_dir, calc readibility scores and aggregate scores for analysis\n",
    "\n",
    "#Extract only abstract and introduction sections\n",
    "#papers = os.listdir(papers_dir)\n",
    "papers = ['PMC7214485.txt']\n",
    "abstractPattern = (\"(\\r\\n|\\r|\\n)(Abstract|ABSTRACT)((\\r\\n|\\r|\\n)(\\r\\n|\\r|\\n).+)+\"\n",
    "                   \"((\\r\\n|\\r|\\n)(\\r\\n|\\r|\\n)(Introduction|INTRODUCTION))(\\r\\n|\\r|\\n)\")\n",
    "introPattern = (\"(\\r\\n|\\r|\\n)(Introduction|INTRODUCTION)((\\r\\n|\\r|\\n)(\\r\\n|\\r|\\n).+)+\" \n",
    "\"((\\r\\n|\\r|\\n)(\\r\\n|\\r|\\n)(METHODS|Methods|Materials and methods|MATERIALS AND METHODS))(\\r\\n|\\r|\\n)\")\n",
    "\n",
    "text = \"\"\n",
    "preProcessFailed = False\n",
    "for pName in papers:\n",
    "    preprocessFailed = False\n",
    "    try:\n",
    "        abstract = \"\"\n",
    "        intro = \"\"\n",
    "        pContents = \"\"\n",
    "\n",
    "        pPath = papers_dir + \"/\" + pName\n",
    "        with open(pPath, 'r', encoding='utf-8') as pFile:\n",
    "            pContents = pFile.read()\n",
    "            abstractMatch = regex.search(abstractPattern, pContents, regex.MULTILINE)\n",
    "            if (abstractMatch):\n",
    "                abstract = abstractMatch.group(0)\n",
    "                abstract = regex.sub(\"(\\r\\n|\\r|\\n)(Introduction|INTRODUCTION)(\\r\\n|\\r|\\n)\", \"\", abstract)   #Remove the Introduction section header\n",
    "\n",
    "            introMatch = regex.search(introPattern, pContents, regex.MULTILINE)\n",
    "\n",
    "            if(introMatch):\n",
    "                intro = introMatch.group(0)\n",
    "                intro = regex.sub(\"(\\r\\n|\\r|\\n)(METHODS|Methods|Materials and methods|MATERIALS AND METHODS)(\\r\\n|\\r|\\n)\", \n",
    "                          \"\", intro)                                                                         #Remove the Methods section header\n",
    "\n",
    "            text = abstract + \"\\n\\n\" + intro\n",
    "\n",
    "            text = regex.sub(\"(\\s*\\(\\d+(,\\s*\\d+\\s*)*\\)|\\[(\\d+(,\\s*\\d+\\s*)*\\])\\s*)\", \"\", text)               #Remove numeric references \n",
    "\n",
    "            print(text)\n",
    "            #Analyze the text to calculate the different readibility metrics.\n",
    "    except:\n",
    "        print(\"Error. Preprocessing failed for \" + pName)\n",
    "        preProcessFailed = True\n",
    "        \n",
    "    try:\n",
    "        if (not preProcessFailed):\n",
    "            scores = calcReadabilityScores(text)\n",
    "            print(scores)\n",
    "            results.append(scores)\n",
    "    \n",
    "    except:\n",
    "        print(\"Error. Calculating readability scores failed for \" + pName)\n",
    "            \n",
    " \n",
    "        \n",
    " \n"
   ]
  },
  {
   "cell_type": "code",
   "execution_count": null,
   "metadata": {},
   "outputs": [],
   "source": []
  },
  {
   "cell_type": "code",
   "execution_count": null,
   "metadata": {},
   "outputs": [],
   "source": []
  },
  {
   "cell_type": "code",
   "execution_count": null,
   "metadata": {},
   "outputs": [],
   "source": []
  }
 ],
 "metadata": {
  "kernelspec": {
   "display_name": "Python 3",
   "language": "python",
   "name": "python3"
  },
  "language_info": {
   "codemirror_mode": {
    "name": "ipython",
    "version": 3
   },
   "file_extension": ".py",
   "mimetype": "text/x-python",
   "name": "python",
   "nbconvert_exporter": "python",
   "pygments_lexer": "ipython3",
   "version": "3.9.0"
  }
 },
 "nbformat": 4,
 "nbformat_minor": 4
}
