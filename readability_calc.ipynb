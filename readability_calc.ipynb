{
 "cells": [
  {
   "cell_type": "code",
   "execution_count": 6,
   "metadata": {},
   "outputs": [],
   "source": [
    "import os\n",
    "import regex\n",
    "import textstat\n",
    "\n",
    "import pandas as pd\n",
    "import numpy as np\n",
    "import seaborn as sns\n",
    "from matplotlib import pyplot as plt\n",
    "%matplotlib inline"
   ]
  },
  {
   "cell_type": "code",
   "execution_count": 7,
   "metadata": {},
   "outputs": [],
   "source": [
    "papersDir = \"data/pmc_txt\"\n",
    "outFile = \"results/textstat.results.tsv\""
   ]
  },
  {
   "cell_type": "code",
   "execution_count": 12,
   "metadata": {},
   "outputs": [],
   "source": [
    "#Calculates the Flesch-Kincaid Grade Level, Gunning FOG Index, Automated Readability Index and Coleman-Liau Index\n",
    "#for the given text. Writes results to an outpul tsv file.\n",
    "\n",
    "\n",
    "def calcReadabilityScores(content, basename, stats=[], outFile=\"\"):\n",
    "    stats.append([basename, \"flesch_reading_ease\", textstat.flesch_reading_ease(content)])\n",
    "    stats.append([basename, \"gunning_fog\", textstat.gunning_fog(content)])\n",
    "    stats.append(\n",
    "        [\n",
    "            basename,\n",
    "            \"automated_readability_index\",\n",
    "            textstat.automated_readability_index(content),\n",
    "        ]\n",
    "    )\n",
    "    stats.append([basename, \"coleman_liau_index\", textstat.coleman_liau_index(content)])\n",
    "\n",
    "    df = pd.DataFrame(\n",
    "        stats,\n",
    "        columns=[\"filename\", \"measure\", \"score\"]\n",
    "    )\n",
    "    \n",
    "    if(outFile != \"\"):\n",
    "        with open(outFile, \"w\") as fh:\n",
    "            fh.write(df.to_csv(sep='\\t', index=False))\n",
    "    \n",
    "\n",
    "    \n",
    "def drawHistogram(scores, title, bins=20):\n",
    "    df = pd.DataFrame({title: scores})\n",
    "    df.hist(bins=bins)\n",
    "    \n",
    "    \n",
    "    \n",
    "\n",
    "def plotScores(data):\n",
    "    #fleschScores = gunningScores = automatedScores = colemanScores = []\n",
    "    scores = {\"flesch_reading_ease\": np.array([]), \n",
    "              \"gunning_fog\": np.array([]),  \n",
    "              \"automated_readability_index\": np.array([]), \n",
    "              \"coleman_liau_index\": np.array([])\n",
    "             }\n",
    "    \n",
    "    #Get all the scores for each metric\n",
    "    for row in data:\n",
    "        measure = row[1]\n",
    "        score = row[2]\n",
    "        \n",
    "        for key in scores:\n",
    "            if (measure == key):\n",
    "                scores[key] = np.append(scores[key], score)\n",
    "                \n",
    "                \n",
    "    #Plot scores for each score with a bar chart\n",
    "    for key in scores:\n",
    "        drawHistogram(scores[key], key)\n",
    "    \n",
    "            \n",
    "       \n",
    "        "
   ]
  },
  {
   "cell_type": "code",
   "execution_count": 9,
   "metadata": {},
   "outputs": [],
   "source": [
    "papers = os.listdir(papersDir)\n",
    "\n",
    "abstractPattern = (\"(\\r\\n|\\r|\\n)(Abstract|ABSTRACT)((\\r\\n|\\r|\\n)(\\r\\n|\\r|\\n).+)+\"\n",
    "                   \"((\\r\\n|\\r|\\n)(\\r\\n|\\r|\\n)(Introduction|INTRODUCTION))(\\r\\n|\\r|\\n)\")\n",
    "introPattern = (\"(\\r\\n|\\r|\\n)(Introduction|INTRODUCTION)((\\r\\n|\\r|\\n)(\\r\\n|\\r|\\n).+)+\" \n",
    "\"((\\r\\n|\\r|\\n)(\\r\\n|\\r|\\n)(METHODS|Methods|Materials and methods|MATERIALS AND METHODS))(\\r\\n|\\r|\\n)\")\n",
    "discussionPattern = (\"(\\r\\n|\\r|\\n)(Discussion|DISCUSSION)((\\r\\n|\\r|\\n)(\\r\\n|\\r|\\n).+)+\" \n",
    "\"((\\r\\n|\\r|\\n)(\\r\\n|\\r|\\n)(Conclusion|CONCLUSION)(s|S)?)(\\r\\n|\\r|\\n)\")\n",
    "text = \"\"\n",
    "preProcessFailed = False\n",
    "\n",
    "#For each paper in papersDir, calc readibility scores and aggregate scores for analysis\n",
    "stats = []\n",
    "for pName in papers:\n",
    "    try:\n",
    "        #print(\"Preprocessing \" + pName)\n",
    "        preprocessFailed = False\n",
    "\n",
    "        abstract = \"\"\n",
    "        intro = \"\"\n",
    "        discussion = \"\"\n",
    "        pContents = \"\"\n",
    "        pPath = papersDir + \"/\" + pName\n",
    "        with open(pPath, 'r', encoding='utf-8') as pFile:\n",
    "            pContents = pFile.read()\n",
    "            abstractMatch = regex.search(abstractPattern, pContents, regex.MULTILINE)\n",
    "\n",
    "            #Handle abstract section\n",
    "            if (abstractMatch):\n",
    "                abstract = abstractMatch.group(0)\n",
    "                abstract = regex.sub(\"(\\r\\n|\\r|\\n)(Introduction|INTRODUCTION)(\\r\\n|\\r|\\n)\", \"\", abstract)   #Remove the Introduction section header\n",
    "\n",
    "            #Handle intro section\n",
    "            introMatch = regex.search(introPattern, pContents, regex.MULTILINE)\n",
    "            if(introMatch):\n",
    "                intro = introMatch.group(0)\n",
    "                intro = regex.sub(\"(\\r\\n|\\r|\\n)(METHODS|Methods|Materials and methods|MATERIALS AND METHODS)(\\r\\n|\\r|\\n)\", \n",
    "                \"\", intro)                                                                                #Remove the Methods section header\n",
    "\n",
    "            #Handle discussion section\n",
    "            discussionMatch = regex.search(discussionPattern, pContents, regex.MULTILINE)\n",
    "            if(discussionMatch):\n",
    "                discussion = discussionMatch.group(0)\n",
    "                discussion = regex.sub(\"(\\r\\n|\\r|\\n)(Conclusion|CONCLUSION)(s|S)?(\\r\\n|\\r|\\n)\", \n",
    "                    \"\", discussion)    \n",
    "\n",
    "            text = abstract + \"\\n\\n\" + intro + \"\\n\\n\" + discussion\n",
    "\n",
    "            text = regex.sub(\"(\\s*\\(\\d+(,\\s*\\d+\\s*)*\\)|\\[(\\d+(,\\s*\\d+\\s*)*\\])\\s*)\", \"\", text)               #Remove numeric references \n",
    "        \n",
    "    except:\n",
    "        print(\"Preprocessing failed for \" +pName)\n",
    "        preProcessFailed = True\n",
    "           \n",
    "    if (not preProcessFailed):\n",
    "        #Analyze the text to calculate the different readibility metrics.\n",
    "        #print(\"Calculating readability scores for \" + pName)\n",
    "        calcReadabilityScores(content=text, basename=pName, stats=stats, outFile=outFile)\n",
    "                \n"
   ]
  },
  {
   "cell_type": "code",
   "execution_count": 13,
   "metadata": {},
   "outputs": [
    {
     "data": {
      "image/png": "[encoded data removed]",
      "text/plain": [
       "<Figure size 432x288 with 1 Axes>"
      ]
     },
     "metadata": {
      "needs_background": "light"
     },
     "output_type": "display_data"
    },
    {
     "data": {
      "image/png": "[encoded data removed]",
      "text/plain": [
       "<Figure size 432x288 with 1 Axes>"
      ]
     },
     "metadata": {
      "needs_background": "light"
     },
     "output_type": "display_data"
    },
    {
     "data": {
      "image/png": "[encoded data removed]",
      "text/plain": [
       "<Figure size 432x288 with 1 Axes>"
      ]
     },
     "metadata": {
      "needs_background": "light"
     },
     "output_type": "display_data"
    },
    {
     "data": {
      "image/png": "[encoded data removed]",
      "text/plain": [
       "<Figure size 432x288 with 1 Axes>"
      ]
     },
     "metadata": {
      "needs_background": "light"
     },
     "output_type": "display_data"
    }
   ],
   "source": [
    "plotScores(stats)"
   ]
  },
  {
   "cell_type": "code",
   "execution_count": null,
   "metadata": {},
   "outputs": [],
   "source": []
  },
  {
   "cell_type": "code",
   "execution_count": null,
   "metadata": {},
   "outputs": [],
   "source": []
  }
 ],
 "metadata": {
  "kernelspec": {
   "display_name": "Python 3",
   "language": "python",
   "name": "python3"
  },
  "language_info": {
   "codemirror_mode": {
    "name": "ipython",
    "version": 3
   },
   "file_extension": ".py",
   "mimetype": "text/x-python",
   "name": "python",
   "nbconvert_exporter": "python",
   "pygments_lexer": "ipython3",
   "version": "3.9.0"
  }
 },
 "nbformat": 4,
 "nbformat_minor": 4
}
