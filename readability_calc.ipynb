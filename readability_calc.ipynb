{
 "cells": [
  {
   "cell_type": "code",
   "execution_count": 1,
   "metadata": {},
   "outputs": [],
   "source": [
    "import os"
   ]
  },
  {
   "cell_type": "code",
   "execution_count": 4,
   "metadata": {},
   "outputs": [],
   "source": [
    "papers_dir = \"pmc_txt\"\n"
   ]
  },
  {
   "cell_type": "code",
   "execution_count": null,
   "metadata": {},
   "outputs": [],
   "source": [
    "#For each paper in papers_dir, calc readibility scores and aggregate scores for analysis\n",
    "\n",
    "#Extract only abstract and introduction sections\n",
    "papers = os.listdir(papers_dir)\n",
    "\n",
    "abstractPattern = \"(\\r\\n|\\r|\\n)Abstract(\\r\\n|\\r|\\n).+(\\r\\n|\\r|\\n)\"\n",
    "introPattern = \"(\\r\\n|\\r|\\n)Introduction(\\r\\n|\\r|\\n).+(\\r\\n|\\r|\\n)\"\n",
    "\n",
    "for pName in papers:\n",
    "    abstract = \"\"\n",
    "    intro = \"\"\n",
    "    pContents = \"\"\n",
    "    \n",
    "    pPath = papers_dir + \"/\" + pName\n",
    "    with open(pPath, 'r', encoding='utf-8') as pFile:\n",
    "        pContents = pFile.read()\n",
    "        abstract = \"\" #Match abstract\n",
    "        intro = \"\" #\n",
    "        \n",
    "        text = abstract + \"\\n\\n\" + intro\n",
    "        \n",
    "        #Analyze the text to calculate the different readibility metrics.\n",
    "        \n",
    "        \n",
    "\n",
    "#Calc all scores and aggregate \n"
   ]
  }
 ],
 "metadata": {
  "kernelspec": {
   "display_name": "Python 3",
   "language": "python",
   "name": "python3"
  },
  "language_info": {
   "codemirror_mode": {
    "name": "ipython",
    "version": 3
   },
   "file_extension": ".py",
   "mimetype": "text/x-python",
   "name": "python",
   "nbconvert_exporter": "python",
   "pygments_lexer": "ipython3",
   "version": "3.9.0"
  }
 },
 "nbformat": 4,
 "nbformat_minor": 4
}
