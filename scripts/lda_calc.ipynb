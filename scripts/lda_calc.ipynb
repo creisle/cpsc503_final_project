{
 "cells": [
  {
   "cell_type": "code",
   "execution_count": 124,
   "metadata": {},
   "outputs": [
    {
     "name": "stderr",
     "output_type": "stream",
     "text": [
      "[nltk_data] Downloading package stopwords to /home/oloff/nltk_data...\n",
      "[nltk_data]   Package stopwords is already up-to-date!\n"
     ]
    }
   ],
   "source": [
    "from gensim.test.utils import common_texts\n",
    "from gensim.corpora.dictionary import Dictionary\n",
    "from gensim.test.utils import datapath\n",
    "from gensim.models import LdaModel\n",
    "from gensim.models import CoherenceModel\n",
    "from gensim.utils import simple_preprocess\n",
    "\n",
    "import regex\n",
    "import argparse\n",
    "import gensim\n",
    "import spacy\n",
    "import os\n",
    "import pandas as pd\n",
    "\n",
    "\n",
    "import nltk\n",
    "nltk.download('stopwords')\n",
    "from nltk.corpus import stopwords\n",
    "\n"
   ]
  },
  {
   "cell_type": "code",
   "execution_count": 125,
   "metadata": {},
   "outputs": [],
   "source": [
    "def preProcess(text):\n",
    "    text = regex.sub('[,\\.!?]', '', text)\n",
    "    text = text.lower()\n",
    "\n",
    "    words = gensim.utils.simple_preprocess(text, deacc=True) #Tokenize\n",
    "    \n",
    "    data = [words]\n",
    "    \n",
    "    # Build the bigram model\n",
    "    bi = gensim.models.Phrases(data, min_count=5, threshold=100) \n",
    "    bi_mod = gensim.models.phrases.Phraser(bi)\n",
    "    \n",
    "    #Remove stopwords\n",
    "    sWords = stopwords.words('english')\n",
    "    \n",
    "    lim = len(words)\n",
    "    i = 0\n",
    "    for w in words:\n",
    "        if words[i] in sWords:\n",
    "            words.pop(i)\n",
    "            lim = len(words)\n",
    "        \n",
    "        i += 1\n",
    "        if i >= lim:\n",
    "            break\n",
    "            \n",
    "            \n",
    "    word_bigrams = [bi_mod[data[0]]]\n",
    "    \n",
    "    #Lemmatization\n",
    "    spacyLemmatize = spacy.load(\"en_core_web_sm\", disable=['parser', 'ner'])\n",
    "        \n",
    "    lemmatizedText = []\n",
    "    \n",
    "    spacyLemmas = spacyLemmatize(\" \".join(word_bigrams[0])) \n",
    "    permit = ['NOUN', 'ADJ', 'VERB', 'ADV']\n",
    "    \n",
    "    for t in spacyLemmas:\n",
    "        if t.pos_ in permit:\n",
    "            lemmatizedText.append(t.lemma_)\n",
    "    \n",
    "    \n",
    "    return [lemmatizedText]\n",
    "\n",
    "\n",
    "\n",
    "def calcCoherence(lemmatizedTexts, passes=100, nTopics=5):\n",
    "    \n",
    "    id2word = Dictionary(lemmatizedTexts)\n",
    "    corp = [id2word.doc2bow(text) for text in lemmatizedTexts]\n",
    "    \n",
    "    ldaModel = gensim.models.LdaMulticore(corpus=corp,\n",
    "                                       id2word=id2word,\n",
    "                                       num_topics=nTopics, \n",
    "                                       passes=passes,\n",
    "                                       random_state=100,\n",
    "                                       per_word_topics=False,\n",
    "                                       alpha=0.01,\n",
    "                                       eta=0.9)\n",
    "    \n",
    "    coherenceModel = CoherenceModel(model=ldaModel, \n",
    "                                        texts=lemmatizedTexts, \n",
    "                                        dictionary=id2word, \n",
    "                                        coherence='c_v',\n",
    "                                        processes = 0)\n",
    "    \n",
    "    return coherenceModel.get_coherence()\n",
    "        \n",
    "\n",
    "    \n",
    "def outputScoreData(score, docName, outFile):\n",
    "    df = pd.DataFrame(\n",
    "        [[docName, \"lda_coherence\", score]],\n",
    "        columns=[\"filename\", \"measure\", \"score\"]\n",
    "    )\n",
    "        \n",
    "    if(outFile != \"\"):\n",
    "        with open(outFile, \"w\") as fh:\n",
    "            fh.write(df.to_csv(sep='\\t', index=False))\n",
    "    \n"
   ]
  },
  {
   "cell_type": "code",
   "execution_count": 126,
   "metadata": {},
   "outputs": [
    {
     "name": "stdout",
     "output_type": "stream",
     "text": [
      "0.592635402443918\n"
     ]
    }
   ],
   "source": [
    "parser = argparse.ArgumentParser()\n",
    "parser.add_argument('--in_file', help='the input txt file with paper content', default=\"./test.txt\")\n",
    "parser.add_argument('--out_file', help='the output file for results', default=\"./lda_scores.tsv\")\n",
    "parser.add_argument('--passes', help='number of passes over texts', default=\"100\")\n",
    "parser.add_argument('--topics', help='number of topics to consider', default=\"5\")\n",
    "\n",
    "args = parser.parse_args()\n",
    "\n",
    "if not os.path.exists(args.in_file):\n",
    "    raise FileNotFoundError(args.in_file)\n",
    "\n",
    "inFile = args.in_file\n",
    "outFile = args.out_file\n",
    "passes = args.passes\n",
    "nTopics = args.nTopics\n",
    "\n",
    "ldaCoherence = 0.0\n",
    "\n",
    "with open(inFile, \"r\", encoding='utf-8') as pFile:\n",
    "    text = pFile.read()\n",
    "    lemmatizedText = preProcess(text)\n",
    "    ldaCoherence = calcCoherence(lemmatizedText, passes, nTopics)\n",
    "   \n",
    "    print(ldaCoherence)\n",
    "    \n",
    "\n",
    "outputScoreData(ldaCoherence, os.path.basename(inFile), outFile)\n",
    "\n"
   ]
  },
  {
   "cell_type": "code",
   "execution_count": 30,
   "metadata": {},
   "outputs": [],
   "source": []
  },
  {
   "cell_type": "code",
   "execution_count": null,
   "metadata": {},
   "outputs": [],
   "source": []
  }
 ],
 "metadata": {
  "kernelspec": {
   "display_name": "Python 3",
   "language": "python",
   "name": "python3"
  },
  "language_info": {
   "codemirror_mode": {
    "name": "ipython",
    "version": 3
   },
   "file_extension": ".py",
   "mimetype": "text/x-python",
   "name": "python",
   "nbconvert_exporter": "python",
   "pygments_lexer": "ipython3",
   "version": "3.7.3"
  }
 },
 "nbformat": 4,
 "nbformat_minor": 2
}
